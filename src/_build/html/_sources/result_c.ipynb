{
 "cells": [
  {
   "cell_type": "markdown",
   "metadata": {
    "tags": []
   },
   "source": [
    "# 1. Qiskit認定資格取得のための基礎学習"
   ]
  },
  {
   "cell_type": "markdown",
   "id": "c6898572",
   "metadata": {},
   "source": [
    "\n",
    "## 1. はじめに　活動の概要\n",
    "\n",
    "- IBMの Qiskit認定資格を取得 <br>\n",
    "    「IBM Certified Associate Developer – Quantum Computation using Qiskit v0.2X」\n",
    "- 資格勉強の中で、初学者の壁になりそうな部分を、初学者の観点から理解しやすい内容にまとめる"
   ]
  },
  {
   "cell_type": "markdown",
   "id": "7ac5e8ff",
   "metadata": {},
   "source": [
    "\n",
    "## 2. 学習方針と活動方針\n",
    "\n",
    "- 週一回の定例会で、メンバーが自己学習でわかりにくい部分を持ち寄る\n",
    "- 持ち寄った内容をドキュメントにし、アウトプットとしてまとめる\n",
    "- GitHub pagesにて公開"
   ]
  },
  {
   "cell_type": "markdown",
   "id": "98ecca4b",
   "metadata": {},
   "source": [
    "\n",
    "## 3. コンテンツ　作成物\n",
    "\n",
    "1. [基礎学習のまとめ](./team_c/slide1.pdf) <br>\n",
    "    基礎学習の中で得た知識や、わかりにくい部分のまとめ\n",
    "2. [学習方針と結果](./team_c/slide2.md) <br>\n",
    "    メンバーが立てた学習方針、計画と本試験を受けた結果\n",
    "3. [受験時の注意点](./team_c/slide3.md) <br>\n",
    "    受験を通して得た注意点。問題の傾向。\n",
    "4. [想定問題集](./team_c/slide4.md)<br>\n",
    "    問題傾向から作成た対策問題。"
   ]
  }
 ],
 "metadata": {
  "kernelspec": {
   "display_name": "Python 3",
   "language": "python",
   "name": "python3"
  },
  "language_info": {
   "codemirror_mode": {
    "name": "ipython",
    "version": 3
   },
   "file_extension": ".py",
   "mimetype": "text/x-python",
   "name": "python",
   "nbconvert_exporter": "python",
   "pygments_lexer": "ipython3",
   "version": "3.8.5"
  },
  "widgets": {
   "application/vnd.jupyter.widget-state+json": {
    "state": {},
    "version_major": 2,
    "version_minor": 0
   }
  }
 },
 "nbformat": 4,
 "nbformat_minor": 5
}
