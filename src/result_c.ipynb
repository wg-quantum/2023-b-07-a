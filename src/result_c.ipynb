{
 "cells": [
  {
   "cell_type": "markdown",
   "metadata": {
    "tags": []
   },
   "source": [
    "# Cチーム結果"
   ]
  },
  {
   "cell_type": "markdown",
   "id": "c6898572",
   "metadata": {},
   "source": [
    "\n",
    "## 1. はじめに\n",
    "\n",
    "test"
   ]
  },
  {
   "cell_type": "markdown",
   "id": "7ac5e8ff",
   "metadata": {},
   "source": [
    "\n",
    "## 2. 目的を記載\n",
    "\n",
    "テスト"
   ]
  },
  {
   "cell_type": "markdown",
   "id": "98ecca4b",
   "metadata": {},
   "source": [
    "\n",
    "## 3. コンテンツ\n",
    "\n",
    "1. [基礎学習のまとめ](./team_c/slide1.pdf)\n",
    "2. [学習方針と結果](./team_c/slide2.md)\n",
    "3. [受験時の注意点](./team_c/slide3.md)\n",
    "4. [想定問題集](./team_c/slide4.md)"
   ]
  }
 ],
 "metadata": {
  "kernelspec": {
   "display_name": "Python 3",
   "language": "python",
   "name": "python3"
  },
  "language_info": {
   "codemirror_mode": {
    "name": "ipython",
    "version": 3
   },
   "file_extension": ".py",
   "mimetype": "text/x-python",
   "name": "python",
   "nbconvert_exporter": "python",
   "pygments_lexer": "ipython3",
   "version": "3.8.5"
  },
  "widgets": {
   "application/vnd.jupyter.widget-state+json": {
    "state": {},
    "version_major": 2,
    "version_minor": 0
   }
  }
 },
 "nbformat": 4,
 "nbformat_minor": 5
}
