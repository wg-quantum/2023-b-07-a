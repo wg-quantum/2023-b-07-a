{
 "cells": [
  {
   "cell_type": "markdown",
   "metadata": {
    "tags": []
   },
   "source": [
    "# Cチーム結果"
   ]
  },
  {
   "cell_type": "markdown",
   "metadata": {},
   "source": [
    "## はじめに\n",
    "test"
   ]
  },
  {
   "cell_type": "markdown",
   "id": "7ac5e8ff",
   "metadata": {},
   "source": [
    "## 目的を記載\n",
    "テスト"
   ]
  },
  {
   "cell_type": "markdown",
   "id": "98ecca4b",
   "metadata": {},
   "source": [
    "## コンテンツ\n",
    "1. test\n",
    "2. [想定問題集](./team_c/slide1.md)"
   ]
  }
 ],
 "metadata": {
  "kernelspec": {
   "display_name": "Python 3",
   "language": "python",
   "name": "python3"
  },
  "language_info": {
   "codemirror_mode": {
    "name": "ipython",
    "version": 3
   },
   "file_extension": ".py",
   "mimetype": "text/x-python",
   "name": "python",
   "nbconvert_exporter": "python",
   "pygments_lexer": "ipython3",
   "version": "3.8.5"
  },
  "widgets": {
   "application/vnd.jupyter.widget-state+json": {
    "state": {},
    "version_major": 2,
    "version_minor": 0
   }
  }
 },
 "nbformat": 4,
 "nbformat_minor": 5
}
