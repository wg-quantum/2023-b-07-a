{
 "cells": [
  {
   "cell_type": "markdown",
   "id": "91b2032a",
   "metadata": {
    "tags": []
   },
   "source": [
    "# 2. ショアのアルゴリズム（初学者向け解説）"
   ]
  },
  {
   "cell_type": "markdown",
   "id": "d63d79e8",
   "metadata": {},
   "source": [
    "## コンテンツ\n",
    "\n",
    "1. ショアのアルゴリズム選定理由<br>\n",
    "2. ショアのアルゴリズム解説<br>\n",
    "  2-1 ダイアグラム<br>\n",
    "  2-2 位数<br>\n",
    "  2-3 解説<br>\n",
    "  2-4 計算例<br>\n",
    "3. Qiskitの利用<br>\n",
    "  3-1 Qiskit日本語版と英語版<br>\n",
    "  3-2 Qiskitの比較<br>\n",
    "4. まとめ"
   ]
  },
  {
   "attachments": {},
   "cell_type": "markdown",
   "id": "5ae53850",
   "metadata": {},
   "source": [
    "### 1. ショアのアルゴリズム選定理由\n",
    "\n",
    "A) 量子コンピュータの利用の優位性を認識\n",
    "\n",
    "B) 量子位相推定、量子フーリエ変換も学習\n",
    "\n",
    "C) Qiskitを利用し量子コンピュータで実行"
   ]
  },
  {
   "attachments": {},
   "cell_type": "markdown",
   "id": "82bf3807",
   "metadata": {},
   "source": [
    "### 2. ショアのアルゴリズム解説\n",
    "\n",
    "#### 2-1 ダイアグラム\n",
    "\n",
    "自然数Mについて因数を求めます。\n",
    "a,b,p,q,r,x を以下と設定します。\n",
    "M＝pqとなるp,qを求める。(p,qは因数)\n",
    "a,bはa≧1, b≧2\n",
    "xは、1< x ≦ M-1 \n",
    "r"
   ]
  },
  {
   "cell_type": "markdown",
   "id": "e136be4a",
   "metadata": {},
   "source": [
    "![fig_1](./team_b/fig_1.png)"
   ]
  },
  {
   "cell_type": "markdown",
   "id": "9590bf50",
   "metadata": {},
   "source": [
    "ステップ5を量子アルゴリズム/量子コンピュータにて短時間で実施することで計算量を大幅に削減することが可能となります。他のステップについては古典コンピュータにて実施しています。"
   ]
  },
  {
   "attachments": {},
   "cell_type": "markdown",
   "id": "a62287ee",
   "metadata": {},
   "source": [
    "#### 2-2 位数とは？\n",
    "\n",
    "自然数　Mと相互に素なxを仮定して因数を求めたい時\n",
    "x^r　をMで割ったあまりがyとすると\n",
    "\n",
    "$ 𝑦=𝑥^r mod M $ ・・・・①\n",
    "\n",
    "が関係式となります。"
   ]
  },
  {
   "cell_type": "markdown",
   "id": "c7d0abdd",
   "metadata": {},
   "source": [
    "ここでM=21 x=5 とした時に　yとrの関係を表とグラフで表すと周期性があることがわかります。\n",
    "\n",
    "この時y=1となるrは周期的になっていることがわかります。  \n",
    "この時、最小の自然数 r　を位数　とします。  \n",
    "この例では、位数＝６　となります。\n",
    "\n",
    "![fig_2](./team_b/fig_2.png)\n",
    "![fig_3](./team_b/fig_3.png)"
   ]
  },
  {
   "attachments": {},
   "cell_type": "markdown",
   "id": "75af1b2c",
   "metadata": {},
   "source": [
    "①式を変換していきます。  \n",
    "\n",
    "$ 𝑦=𝑥^r mod M $  \n",
    "y=1を代入して  \n",
    "$ 1=𝑥^𝑟 mod 𝑀 $  \n",
    "モジュラー関数からMの倍数で表現すると    \n",
    "$ 𝑥^𝑟=𝑚𝑀+1 $  \n",
    "両辺から1を引いて  \n",
    "$ 𝑥^𝑟−1=𝑚𝑀 $\n",
    "これを因数分解すると\n",
    "\n",
    "$\n",
    "(x^\\frac{r}{2}+1)(x^\\frac{r}{2}-1)=mM \n",
    "$\n",
    "\n",
    "となります。\n",
    "再度モジュラー関数にて変換すると  \n",
    "$ (x^\\frac{r}{2}+1)(x^\\frac{r}{2}-1)modM=0 $　・・・・②\n",
    "\n",
    "②から\n",
    "$ (x^\\frac{r}{2}+1)$ または $ (x^\\frac{r}{2}-1)$ がMと同じ約数を持つはずとわかります。\n",
    "\n",
    "ここで$ \\frac{r}{2} $ が正数でなければ $ x^\\frac{r}{2} $ が整数になりませんので\n",
    "必ずrは偶数である必要があります。  \n",
    "もしrが算出された後、奇数の場合には残念ながらxの再設定から実施する必要があります。\n",
    "\n",
    "ここで、\n",
    "\n",
    "$ gcd ((x^\\frac{r}{2}+1),M) > 1 $ ・・・・　③\n",
    "または　\n",
    "$ gcd ((x^\\frac{r}{2}-1),M) > 1 $ ・・・・　④\n",
    "の際にMとの公約数が因数となります。"
   ]
  },
  {
   "cell_type": "markdown",
   "id": "b4e6d5e0",
   "metadata": {},
   "source": [
    "例　M=21 x=5 の場合\n",
    "\n",
    "r=6ですので③、④式に代入すると\n",
    "\n",
    "$ gcd ((x^\\frac{r}{2}+1),M) > 1 $   \n",
    "$ gcd ((5^\\frac{6}{2}+1),21) > 1 $  \n",
    "$ gcd ((5^\\frac{6}{2}+1),21) > 1 $  \n",
    "$ gcd (126,21) > 1 $  \n",
    "$ gcd(126,21=21 $  \n",
    "==> うーむ・・・・\n",
    "\n",
    "$ gcd ((x^\\frac{r}{2}-1),M) > 1 $  \n",
    "$ gcd ((5^\\frac{6}{2}-1),21) > 1 $  \n",
    "$ gcd (124,21) > 1 $  \n",
    "$ gcd(124,21)=1 $  \n",
    "==> こちらはなさそう・・・・\n",
    "\n",
    "ステップ８　→　ステップ７　に振り出しに戻ります。"
   ]
  },
  {
   "cell_type": "markdown",
   "id": "6eb52bb0",
   "metadata": {},
   "source": [
    "気を取り直してxを再設定\n",
    "例　M=21 x=2 の場合\n",
    "\n",
    "![fig_3](./team_b/fig_3.png)\n",
    "\n",
    "r=6ですので③式に代入すると\n",
    "\n",
    "$ gcd ((x^\\frac{r}{2}+1),M) > 1 $ <br>\n",
    "$ gcd ((2^\\frac{6}{2}+1),21) > 1 $ <br>\n",
    "$ gcd ((2^\\frac{6}{2}+1),21) > 1 $ <br>\n",
    "$ gcd (9,21) > 1 $ <br>\n",
    "$ gcd(9,21)=3 $ <br>\n",
    "\n",
    "**3**\n",
    "\n",
    "r=6ですので④式に代入すると\n",
    "\n",
    "$ gcd ((x^\\frac{r}{2}-1),M) > 1 $ <br>\n",
    "$ gcd ((2^\\frac{6}{2}-1),21) > 1 $ <br>\n",
    "$ gcd (7,21) > 1 $ <br>\n",
    "$ gcd(7,21)=7 $  <br>\n",
    "\n",
    "**7**\n",
    "\n",
    "おお！因数分解できました。\n",
    "できるだけ小さい素数をxに設定するのが良さそうですね。"
   ]
  },
  {
   "cell_type": "markdown",
   "id": "e0cef030",
   "metadata": {},
   "source": [
    "小さい数字でしたので、なんとかできていましたがビット数が増えていくと古典コンピュータではやりきれなくなります。\n",
    "そこで量子アルゴリズムと量子コンピュータを適応してみましょう。"
   ]
  },
  {
   "cell_type": "markdown",
   "id": "741144c3",
   "metadata": {},
   "source": [
    "#### 2-3  量子アルゴリズム解説"
   ]
  },
  {
   "cell_type": "markdown",
   "id": "b52efc46",
   "metadata": {},
   "source": [
    "\n",
    "![fig_4](./team_b/fig_4.png)"
   ]
  },
  {
   "cell_type": "markdown",
   "id": "586685db",
   "metadata": {},
   "source": [
    "分かりやすく量子回路にてみてみます。"
   ]
  },
  {
   "cell_type": "markdown",
   "id": "6030c528",
   "metadata": {},
   "source": [
    "\n",
    "![fig_5](./team_b/fig_5.png)"
   ]
  },
  {
   "cell_type": "markdown",
   "id": "472ef252",
   "metadata": {},
   "source": [
    "固有値と位相キックバックとは\n",
    "![fig_6](./team_b/fig_6.png)\n",
    "\n",
    "固有値は、何回ユニタリー行列を作用させても変化しない。\n",
    "\n",
    "位相キックバックは、標的量子ビットの位相θを制御量子ビットに反映される\n",
    "位相キックバックの効果は状態|1>でしか作用しません。(|1>以外の時は打ち消しあって消えてしまうからです。)"
   ]
  },
  {
   "cell_type": "markdown",
   "id": "8ff38c30",
   "metadata": {},
   "source": [
    "#### 2-4  計算例\n",
    "M=21, x=5, n=4 の時\n",
    "\n",
    "![fig_7](./team_b/fig_7.png)"
   ]
  },
  {
   "cell_type": "markdown",
   "id": "bd6e6831",
   "metadata": {},
   "source": [
    "![fig_8](./team_b/fig_8.png)\n",
    "![fig_9](./team_b/fig_9.png)\n",
    "![fig_10](./team_b/fig_10.png)\n",
    "![fig_11](./team_b/fig_11.png)\n",
    "![fig_12](./team_b/fig_12.png)"
   ]
  },
  {
   "cell_type": "markdown",
   "id": "736a5b06",
   "metadata": {},
   "source": [
    "### 3. Qiskit Textbookの利用\n",
    "\n",
    "Qiskit Textbookを利用すればブラウザー上でショアのアルゴリズムを体験できます。\n",
    "今回は、日本語版にて学習を実施しました。\n",
    "\n",
    "https://ja.learn.qiskit.org/course/ch-algorithms/shors-algorithm\n"
   ]
  },
  {
   "cell_type": "markdown",
   "id": "01505352",
   "metadata": {},
   "source": [
    "最初からつまづきました。\n",
    "\n",
    "ModuleNotFoundError: No module named 'tabulate' \n",
    "\n",
    "実際の出力はこちら\n",
    "![fig_13](./team_b/fig_13.png)"
   ]
  },
  {
   "cell_type": "markdown",
   "id": "1f4a613c",
   "metadata": {
    "tags": []
   },
   "source": [
    "検索を行うと先人は、問題なく実行できている・・・・\n",
    "tabulateをimportしてもうまくいかない・・・・・\n",
    "\n",
    "英語版を見てみてください。　とアドバイスをもらい確認\n",
    "![fig_14](./team_b/fig_14.png)"
   ]
  },
  {
   "cell_type": "markdown",
   "id": "fa2062c1",
   "metadata": {},
   "source": [
    "エラーのあった7行目  \n",
    "他のも確認してみると・・・・  \n",
    "from tabulate import tabulate から　from pandas as pd に変更されている."
   ]
  },
  {
   "cell_type": "markdown",
   "id": "6873efb3",
   "metadata": {},
   "source": [
    "![fig_15](./team_b/fig_15.png)"
   ]
  },
  {
   "cell_type": "markdown",
   "id": "83bf77e5",
   "metadata": {},
   "source": [
    "全体を通して確認すると複数の相違点が確認できました。  \n",
    "Referenceのversion情報をみてみるとqiskitのVersionが大きく違う！！  \n",
    "![fig_16](./team_b/fig_16.png)"
   ]
  },
  {
   "cell_type": "markdown",
   "id": "2cf1b150",
   "metadata": {},
   "source": [
    "なるほど、英語版は最新が反映されているが、翻訳のタイミングで古い場合があるようです。\n",
    "\n",
    "**point** <br>\n",
    "日本語版で構文エラーが発生した場合は、Versionの確認を行なって相違がある場合には英語版を参考に修正する"
   ]
  },
  {
   "cell_type": "markdown",
   "id": "55742050",
   "metadata": {},
   "source": []
  }
 ],
 "metadata": {
  "kernelspec": {
   "display_name": "Python 3 (ipykernel)",
   "language": "python",
   "name": "python3"
  },
  "language_info": {
   "codemirror_mode": {
    "name": "ipython",
    "version": 3
   },
   "file_extension": ".py",
   "mimetype": "text/x-python",
   "name": "python",
   "nbconvert_exporter": "python",
   "pygments_lexer": "ipython3",
   "version": "3.9.12"
  },
  "widgets": {
   "application/vnd.jupyter.widget-state+json": {
    "state": {},
    "version_major": 2,
    "version_minor": 0
   }
  }
 },
 "nbformat": 4,
 "nbformat_minor": 5
}
