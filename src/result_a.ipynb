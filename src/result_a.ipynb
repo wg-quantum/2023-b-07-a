{
 "cells": [
  {
   "cell_type": "markdown",
   "id": "80c288cd",
   "metadata": {
    "tags": []
   },
   "source": [
    "# 3. 量子機械学習"
   ]
  },
  {
   "cell_type": "markdown",
   "id": "41648e8d",
   "metadata": {},
   "source": [
    "## "
   ]
  },
  {
   "cell_type": "markdown",
   "id": "2f85b2bc",
   "metadata": {},
   "source": [
    "2023年度IBMナレッジモール研究会にて、チーム 2023-b-07-a 内のサブチームである Team A は、量子機械学習の基礎理解を固めることを目的とし、①長所・短所等の整理、②今後の発展の展望、③インターネット上で検索され易い形式での共有を目的として活動を行ってきました。\n",
    "\n",
    "具体的には、Team A では、量子コンピューティングについては初心者ながら機械学習には経験のあるメンバーであったため、各々、興味関心を抱いたアルゴリズムを中心に複数の量子機械学習のテーマについて研究に取り組みました。例えば、\n",
    "- Quantum Generative Adversarial Networks\n",
    "- Quantum Convolutional Neural Network\n",
    "- Quantum Transformer\n",
    "- Quantum Federated Learning\n",
    "\n",
    "などです。\n",
    "\n",
    "\n",
    "アプローチのし方としては、以下、三つの観点から取り組みました：\n",
    "1. 手法の調査、整理、知識としての資料化\n",
    "2. 古典機械学習との対比\n",
    "3. Qiskit、pennylane、など各種実装ライブラリを用いた実験・考察\n",
    "\n",
    "\n",
    "学んだ成果を、以下の通り、コンテンツにまとめました。"
   ]
  },
  {
   "cell_type": "markdown",
   "id": "0b5addc2-10a7-4826-8cb4-d0bc742ce42a",
   "metadata": {},
   "source": [
    "## コンテンツ\n",
    "\n",
    "1. [QGAN(Quantum Generative Adversarial Networks)](./team_a/0_Compare_of_qGAN_and_GAN.md)\n",
    "2. [Quantum Federated Learning とは](./team_a/5_Quantum_Federated_Leerning.md)"
   ]
  },
  {
   "cell_type": "code",
   "execution_count": null,
   "id": "b712f8f3-bbf1-4f3b-a012-6fde926eebd9",
   "metadata": {},
   "outputs": [],
   "source": []
  }
 ],
 "metadata": {
  "kernelspec": {
   "display_name": "Python 3 (ipykernel)",
   "language": "python",
   "name": "python3"
  },
  "language_info": {
   "codemirror_mode": {
    "name": "ipython",
    "version": 3
   },
   "file_extension": ".py",
   "mimetype": "text/x-python",
   "name": "python",
   "nbconvert_exporter": "python",
   "pygments_lexer": "ipython3",
   "version": "3.9.6"
  },
  "widgets": {
   "application/vnd.jupyter.widget-state+json": {
    "state": {},
    "version_major": 2,
    "version_minor": 0
   }
  }
 },
 "nbformat": 4,
 "nbformat_minor": 5
}
