{
 "cells": [
  {
   "cell_type": "markdown",
   "id": "80c288cd",
   "metadata": {
    "tags": []
   },
   "source": [
    "# 量子機械学習"
   ]
  },
  {
   "cell_type": "markdown",
   "id": "41648e8d",
   "metadata": {},
   "source": [
    "## "
   ]
  },
  {
   "cell_type": "markdown",
   "id": "2f85b2bc",
   "metadata": {},
   "source": [
    "量子機械学習チームでは、・・・\n",
    "\n",
    "以下のコンテンツをまとめました。"
   ]
  },
  {
   "cell_type": "markdown",
   "id": "0b5addc2-10a7-4826-8cb4-d0bc742ce42a",
   "metadata": {},
   "source": [
    "## コンテンツ\n",
    "\n",
    "1. [QGAN(Quantum Generative Adversarial Networks)](./team_a/0_Compare_of_qGAN_and_GAN.md)\n",
    "2. 量子畳み込みニューラル・ネットワーク\n",
    "3. XXX"
   ]
  },
  {
   "cell_type": "code",
   "execution_count": null,
   "id": "b712f8f3-bbf1-4f3b-a012-6fde926eebd9",
   "metadata": {},
   "outputs": [],
   "source": []
  }
 ],
 "metadata": {
  "kernelspec": {
   "display_name": "Python 3 (ipykernel)",
   "language": "python",
   "name": "python3"
  },
  "language_info": {
   "codemirror_mode": {
    "name": "ipython",
    "version": 3
   },
   "file_extension": ".py",
   "mimetype": "text/x-python",
   "name": "python",
   "nbconvert_exporter": "python",
   "pygments_lexer": "ipython3",
   "version": "3.9.6"
  },
  "widgets": {
   "application/vnd.jupyter.widget-state+json": {
    "state": {},
    "version_major": 2,
    "version_minor": 0
   }
  }
 },
 "nbformat": 4,
 "nbformat_minor": 5
}
