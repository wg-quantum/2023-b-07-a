{
 "cells": [
  {
   "cell_type": "markdown",
   "metadata": {},
   "source": [
    "# 成果公開に向けたGitHub環境活用"
   ]
  },
  {
   "cell_type": "markdown",
   "metadata": {},
   "source": [
    "## 1. はじめに"
   ]
  },
  {
   "cell_type": "markdown",
   "metadata": {},
   "source": [
    "筆者は、30年ぐらい前に〇〇版のVisual Studioを手に入れ、プログラミングを少しかじっていました。　<br>\n",
    "それはインターネット黎明期。C言語とかCGIとか、ASPとかダイヤルアップとか、テレホーダイとかとかとかの頃です。<br>\n",
    "ジオシティーズとかでホームぺージ作ったり、無料CGIでチャットつくって、友達と深夜まで会話したり。<br>\n",
    "自分のホームページ書き換えるのに、「結局、メモ帳最強」とか真剣に思ってました。<br>\n",
    "<br>\n",
    "<br>\n",
    "就職してユーザ企業の情シス。<br>\n",
    "プログラミングから離れ30年近く・・・。時がたち、すっかり中年を通り越し、初老の階段を上っている。。。<br>\n",
    "<br>\n",
    "そんな時に、GitHubとVisual Studio Codeに出会って「え？？今って、こんな簡単に開発できちゃうの！！！！」<br>\n",
    "自動化して、WEB公開までされて、しかも全部タダ！！<br>\n",
    "「そりゃ、内製化とか言うよね・・・。スタバとかでパソコン開いちゃうよね・・・」<br>\n",
    "20年のギャップから得た、衝撃と感動、時代に取り残された悔しさを伝えたく。<br>\n",
    "GitとVisual Studio Codeの最低限知識をここに残します。<br>"
   ]
  },
  {
   "cell_type": "markdown",
   "metadata": {},
   "source": [
    "## 2. 目的\n",
    "\n",
    "- できる限り簡潔に、「これだけあれば、これだけできる」を伝えたい\n",
    "- 詳しい内容は、他のサイトを確認ください！　\n",
    "- 間違った知識も書いてるかもしれませんが、「事実としてこれができたよ」をお伝えします"
   ]
  },
  {
   "cell_type": "markdown",
   "metadata": {},
   "source": [
    "## 3. 知識領域と概要\n",
    "\n",
    "1. GitHub\n",
    "    - ソースコードの管理を行うクラウドサービス。共同で開発、ソースコードの管理が可能。\n",
    "    - 版管理してくれるので、プログラムだけでなく、パワポや文章の共同作業で使う人も。（今回、この目的で利用）\n",
    "    - 色々進化していて、WEBページとして公開までしてくれます。\n",
    "2. Visual Studio Code(WEB版)\n",
    "    - 開発用アプリケーション。\n",
    "3. Git\n",
    "    - もともと、ソース管理システムで様々なツールが合ったっぽいですが、GitHubがデファクトになったっぽい\n",
    "    - Visual Studio Codeから、GitHubにソースをアップロードしたりする時に使う「命令」として最低限の用語をお伝えします。\n",
    "4. Markdown\n",
    "    - HTMLみたいなもん。もっと簡易な奴。\n",
    "    - Markdownで記載するとパワポに変換できたりする"
   ]
  },
  {
   "cell_type": "markdown",
   "metadata": {},
   "source": [
    "## 4. 公開環境\n",
    "![10%](./team_c/image/result_d/resultd01.png)"
   ]
  },
  {
   "cell_type": "markdown",
   "metadata": {},
   "source": [
    "## 5. これだけ知っておけば！\n",
    "\n",
    "1. Git関連\n",
    "    - リポジトリ　repository　\n",
    "    - ブランチ　Brunch\n",
    "    - コミット\n",
    "    - プッシュ\n",
    "    - プルリク\n",
    "\n",
    "2. Visual Studio Code　関連\n",
    "    - リンク\n",
    "    - エクスプローラー\n",
    "    - ソース管理\n",
    "\n",
    "3. MarkDown\n",
    "    - 見出し行は頭に半角＃\n",
    "    - 箇条書き行は頭に半角-\n",
    "    - 番号付きリストは頭に半角1.2.3.\n",
    "\n"
   ]
  },
  {
   "cell_type": "markdown",
   "metadata": {
    "vscode": {
     "languageId": "plaintext"
    }
   },
   "source": []
  }
 ],
 "metadata": {
  "language_info": {
   "name": "python"
  },
  "orig_nbformat": 4
 },
 "nbformat": 4,
 "nbformat_minor": 2
}
