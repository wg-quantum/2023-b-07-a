{
 "cells": [
  {
   "cell_type": "markdown",
   "metadata": {},
   "source": [
    "# 成果公開に向けたGitHub環境活用"
   ]
  },
  {
   "cell_type": "markdown",
   "metadata": {},
   "source": [
    "## 1. はじめに"
   ]
  },
  {
   "cell_type": "markdown",
   "metadata": {},
   "source": [
    "## 2. 公開環境\n",
    "\n",
    "- GitHub\n",
    "- Visual Studio Code for Web"
   ]
  },
  {
   "cell_type": "markdown",
   "metadata": {},
   "source": [
    "![10%](./team_c/image/result_d/resultd01.png)"
   ]
  }
 ],
 "metadata": {
  "language_info": {
   "name": "python"
  },
  "orig_nbformat": 4
 },
 "nbformat": 4,
 "nbformat_minor": 2
}
